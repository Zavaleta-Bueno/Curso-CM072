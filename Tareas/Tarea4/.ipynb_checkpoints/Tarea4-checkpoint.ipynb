{
 "cells": [
  {
   "cell_type": "markdown",
   "metadata": {},
   "source": [
    "## Tarea 4 del curso CM-072\n",
    "\n",
    "* Nombres y Apellidos:\n",
    "* Fecha de presentación: 3 de octubre\n",
    "\n",
    "Como conjunto de datos vamos a utilizar un subconjunto del [Mushroom Data Set](https://archive.ics.uci.edu/ml/datasets/Mushroom) del UCI Machine Learning Repository. "
   ]
  },
  {
   "cell_type": "markdown",
   "metadata": {},
   "source": [
    "### Preprocesamiento y selección de características\n",
    "\n",
    "#### Cargar el conjunto de datos\n",
    "\n",
    "Estos datos contienen la descripción de muestras hipotéticas de 23 especies de setas con aletas de las familias Agaricus y Lepiota. Cada especie es clasificada como venenosa *(poisonous)* o comestible *(edible)*. [Descripción completa del DataSet](https://archive.ics.uci.edu/ml/machine-learning-databases/mushroom/agaricus-lepiota.names)"
   ]
  },
  {
   "cell_type": "code",
   "execution_count": 1,
   "metadata": {},
   "outputs": [
    {
     "data": {
      "text/html": [
       "<div>\n",
       "<style scoped>\n",
       "    .dataframe tbody tr th:only-of-type {\n",
       "        vertical-align: middle;\n",
       "    }\n",
       "\n",
       "    .dataframe tbody tr th {\n",
       "        vertical-align: top;\n",
       "    }\n",
       "\n",
       "    .dataframe thead th {\n",
       "        text-align: right;\n",
       "    }\n",
       "</style>\n",
       "<table border=\"1\" class=\"dataframe\">\n",
       "  <thead>\n",
       "    <tr style=\"text-align: right;\">\n",
       "      <th></th>\n",
       "      <th>class</th>\n",
       "      <th>cap-shape</th>\n",
       "      <th>cap-surface</th>\n",
       "      <th>cap-color</th>\n",
       "      <th>bruises</th>\n",
       "      <th>odor</th>\n",
       "      <th>gill-attachment</th>\n",
       "      <th>gill-spacing</th>\n",
       "      <th>gill-size</th>\n",
       "      <th>gill-color</th>\n",
       "      <th>...</th>\n",
       "      <th>stalk-surface-below-ring</th>\n",
       "      <th>stalk-color-above-ring</th>\n",
       "      <th>stalk-color-below-ring</th>\n",
       "      <th>veil-type</th>\n",
       "      <th>veil-color</th>\n",
       "      <th>ring-number</th>\n",
       "      <th>ring-type</th>\n",
       "      <th>spore-print-color</th>\n",
       "      <th>population</th>\n",
       "      <th>habitat</th>\n",
       "    </tr>\n",
       "  </thead>\n",
       "  <tbody>\n",
       "    <tr>\n",
       "      <th>0</th>\n",
       "      <td>p</td>\n",
       "      <td>x</td>\n",
       "      <td>s</td>\n",
       "      <td>n</td>\n",
       "      <td>t</td>\n",
       "      <td>p</td>\n",
       "      <td>f</td>\n",
       "      <td>c</td>\n",
       "      <td>n</td>\n",
       "      <td>k</td>\n",
       "      <td>...</td>\n",
       "      <td>s</td>\n",
       "      <td>w</td>\n",
       "      <td>w</td>\n",
       "      <td>p</td>\n",
       "      <td>w</td>\n",
       "      <td>o</td>\n",
       "      <td>p</td>\n",
       "      <td>k</td>\n",
       "      <td>s</td>\n",
       "      <td>u</td>\n",
       "    </tr>\n",
       "    <tr>\n",
       "      <th>1</th>\n",
       "      <td>e</td>\n",
       "      <td>x</td>\n",
       "      <td>s</td>\n",
       "      <td>y</td>\n",
       "      <td>t</td>\n",
       "      <td>a</td>\n",
       "      <td>f</td>\n",
       "      <td>c</td>\n",
       "      <td>b</td>\n",
       "      <td>k</td>\n",
       "      <td>...</td>\n",
       "      <td>s</td>\n",
       "      <td>w</td>\n",
       "      <td>w</td>\n",
       "      <td>p</td>\n",
       "      <td>w</td>\n",
       "      <td>o</td>\n",
       "      <td>p</td>\n",
       "      <td>n</td>\n",
       "      <td>n</td>\n",
       "      <td>g</td>\n",
       "    </tr>\n",
       "    <tr>\n",
       "      <th>2</th>\n",
       "      <td>e</td>\n",
       "      <td>b</td>\n",
       "      <td>s</td>\n",
       "      <td>w</td>\n",
       "      <td>t</td>\n",
       "      <td>l</td>\n",
       "      <td>f</td>\n",
       "      <td>c</td>\n",
       "      <td>b</td>\n",
       "      <td>n</td>\n",
       "      <td>...</td>\n",
       "      <td>s</td>\n",
       "      <td>w</td>\n",
       "      <td>w</td>\n",
       "      <td>p</td>\n",
       "      <td>w</td>\n",
       "      <td>o</td>\n",
       "      <td>p</td>\n",
       "      <td>n</td>\n",
       "      <td>n</td>\n",
       "      <td>m</td>\n",
       "    </tr>\n",
       "    <tr>\n",
       "      <th>3</th>\n",
       "      <td>p</td>\n",
       "      <td>x</td>\n",
       "      <td>y</td>\n",
       "      <td>w</td>\n",
       "      <td>t</td>\n",
       "      <td>p</td>\n",
       "      <td>f</td>\n",
       "      <td>c</td>\n",
       "      <td>n</td>\n",
       "      <td>n</td>\n",
       "      <td>...</td>\n",
       "      <td>s</td>\n",
       "      <td>w</td>\n",
       "      <td>w</td>\n",
       "      <td>p</td>\n",
       "      <td>w</td>\n",
       "      <td>o</td>\n",
       "      <td>p</td>\n",
       "      <td>k</td>\n",
       "      <td>s</td>\n",
       "      <td>u</td>\n",
       "    </tr>\n",
       "    <tr>\n",
       "      <th>4</th>\n",
       "      <td>e</td>\n",
       "      <td>x</td>\n",
       "      <td>s</td>\n",
       "      <td>g</td>\n",
       "      <td>f</td>\n",
       "      <td>n</td>\n",
       "      <td>f</td>\n",
       "      <td>w</td>\n",
       "      <td>b</td>\n",
       "      <td>k</td>\n",
       "      <td>...</td>\n",
       "      <td>s</td>\n",
       "      <td>w</td>\n",
       "      <td>w</td>\n",
       "      <td>p</td>\n",
       "      <td>w</td>\n",
       "      <td>o</td>\n",
       "      <td>e</td>\n",
       "      <td>n</td>\n",
       "      <td>a</td>\n",
       "      <td>g</td>\n",
       "    </tr>\n",
       "  </tbody>\n",
       "</table>\n",
       "<p>5 rows × 23 columns</p>\n",
       "</div>"
      ],
      "text/plain": [
       "  class cap-shape cap-surface cap-color bruises odor gill-attachment  \\\n",
       "0     p         x           s         n       t    p               f   \n",
       "1     e         x           s         y       t    a               f   \n",
       "2     e         b           s         w       t    l               f   \n",
       "3     p         x           y         w       t    p               f   \n",
       "4     e         x           s         g       f    n               f   \n",
       "\n",
       "  gill-spacing gill-size gill-color   ...   stalk-surface-below-ring  \\\n",
       "0            c         n          k   ...                          s   \n",
       "1            c         b          k   ...                          s   \n",
       "2            c         b          n   ...                          s   \n",
       "3            c         n          n   ...                          s   \n",
       "4            w         b          k   ...                          s   \n",
       "\n",
       "  stalk-color-above-ring stalk-color-below-ring veil-type veil-color  \\\n",
       "0                      w                      w         p          w   \n",
       "1                      w                      w         p          w   \n",
       "2                      w                      w         p          w   \n",
       "3                      w                      w         p          w   \n",
       "4                      w                      w         p          w   \n",
       "\n",
       "  ring-number ring-type spore-print-color population habitat  \n",
       "0           o         p                 k          s       u  \n",
       "1           o         p                 n          n       g  \n",
       "2           o         p                 n          n       m  \n",
       "3           o         p                 k          s       u  \n",
       "4           o         e                 n          a       g  \n",
       "\n",
       "[5 rows x 23 columns]"
      ]
     },
     "execution_count": 1,
     "metadata": {},
     "output_type": "execute_result"
    }
   ],
   "source": [
    "import numpy as np\n",
    "import pandas as pd\n",
    "import matplotlib.pyplot as plt\n",
    "%matplotlib inline\n",
    "\n",
    "datos = pd.read_csv('mushrooms.csv')\n",
    "datos.head()"
   ]
  },
  {
   "cell_type": "code",
   "execution_count": 2,
   "metadata": {},
   "outputs": [
    {
     "data": {
      "text/html": [
       "<div>\n",
       "<style scoped>\n",
       "    .dataframe tbody tr th:only-of-type {\n",
       "        vertical-align: middle;\n",
       "    }\n",
       "\n",
       "    .dataframe tbody tr th {\n",
       "        vertical-align: top;\n",
       "    }\n",
       "\n",
       "    .dataframe thead th {\n",
       "        text-align: right;\n",
       "    }\n",
       "</style>\n",
       "<table border=\"1\" class=\"dataframe\">\n",
       "  <thead>\n",
       "    <tr style=\"text-align: right;\">\n",
       "      <th></th>\n",
       "      <th>class</th>\n",
       "      <th>cap-shape</th>\n",
       "      <th>cap-surface</th>\n",
       "      <th>cap-color</th>\n",
       "      <th>bruises</th>\n",
       "      <th>odor</th>\n",
       "      <th>gill-attachment</th>\n",
       "      <th>gill-spacing</th>\n",
       "      <th>gill-size</th>\n",
       "      <th>gill-color</th>\n",
       "      <th>...</th>\n",
       "      <th>stalk-surface-below-ring</th>\n",
       "      <th>stalk-color-above-ring</th>\n",
       "      <th>stalk-color-below-ring</th>\n",
       "      <th>veil-type</th>\n",
       "      <th>veil-color</th>\n",
       "      <th>ring-number</th>\n",
       "      <th>ring-type</th>\n",
       "      <th>spore-print-color</th>\n",
       "      <th>population</th>\n",
       "      <th>habitat</th>\n",
       "    </tr>\n",
       "  </thead>\n",
       "  <tbody>\n",
       "    <tr>\n",
       "      <th>count</th>\n",
       "      <td>8124</td>\n",
       "      <td>8124</td>\n",
       "      <td>8124</td>\n",
       "      <td>8124</td>\n",
       "      <td>8124</td>\n",
       "      <td>8124</td>\n",
       "      <td>8124</td>\n",
       "      <td>8124</td>\n",
       "      <td>8124</td>\n",
       "      <td>8124</td>\n",
       "      <td>...</td>\n",
       "      <td>8124</td>\n",
       "      <td>8124</td>\n",
       "      <td>8124</td>\n",
       "      <td>8124</td>\n",
       "      <td>8124</td>\n",
       "      <td>8124</td>\n",
       "      <td>8124</td>\n",
       "      <td>8124</td>\n",
       "      <td>8124</td>\n",
       "      <td>8124</td>\n",
       "    </tr>\n",
       "    <tr>\n",
       "      <th>unique</th>\n",
       "      <td>2</td>\n",
       "      <td>6</td>\n",
       "      <td>4</td>\n",
       "      <td>10</td>\n",
       "      <td>2</td>\n",
       "      <td>9</td>\n",
       "      <td>2</td>\n",
       "      <td>2</td>\n",
       "      <td>2</td>\n",
       "      <td>12</td>\n",
       "      <td>...</td>\n",
       "      <td>4</td>\n",
       "      <td>9</td>\n",
       "      <td>9</td>\n",
       "      <td>1</td>\n",
       "      <td>4</td>\n",
       "      <td>3</td>\n",
       "      <td>5</td>\n",
       "      <td>9</td>\n",
       "      <td>6</td>\n",
       "      <td>7</td>\n",
       "    </tr>\n",
       "    <tr>\n",
       "      <th>top</th>\n",
       "      <td>e</td>\n",
       "      <td>x</td>\n",
       "      <td>y</td>\n",
       "      <td>n</td>\n",
       "      <td>f</td>\n",
       "      <td>n</td>\n",
       "      <td>f</td>\n",
       "      <td>c</td>\n",
       "      <td>b</td>\n",
       "      <td>b</td>\n",
       "      <td>...</td>\n",
       "      <td>s</td>\n",
       "      <td>w</td>\n",
       "      <td>w</td>\n",
       "      <td>p</td>\n",
       "      <td>w</td>\n",
       "      <td>o</td>\n",
       "      <td>p</td>\n",
       "      <td>w</td>\n",
       "      <td>v</td>\n",
       "      <td>d</td>\n",
       "    </tr>\n",
       "    <tr>\n",
       "      <th>freq</th>\n",
       "      <td>4208</td>\n",
       "      <td>3656</td>\n",
       "      <td>3244</td>\n",
       "      <td>2284</td>\n",
       "      <td>4748</td>\n",
       "      <td>3528</td>\n",
       "      <td>7914</td>\n",
       "      <td>6812</td>\n",
       "      <td>5612</td>\n",
       "      <td>1728</td>\n",
       "      <td>...</td>\n",
       "      <td>4936</td>\n",
       "      <td>4464</td>\n",
       "      <td>4384</td>\n",
       "      <td>8124</td>\n",
       "      <td>7924</td>\n",
       "      <td>7488</td>\n",
       "      <td>3968</td>\n",
       "      <td>2388</td>\n",
       "      <td>4040</td>\n",
       "      <td>3148</td>\n",
       "    </tr>\n",
       "  </tbody>\n",
       "</table>\n",
       "<p>4 rows × 23 columns</p>\n",
       "</div>"
      ],
      "text/plain": [
       "       class cap-shape cap-surface cap-color bruises  odor gill-attachment  \\\n",
       "count   8124      8124        8124      8124    8124  8124            8124   \n",
       "unique     2         6           4        10       2     9               2   \n",
       "top        e         x           y         n       f     n               f   \n",
       "freq    4208      3656        3244      2284    4748  3528            7914   \n",
       "\n",
       "       gill-spacing gill-size gill-color   ...   stalk-surface-below-ring  \\\n",
       "count          8124      8124       8124   ...                       8124   \n",
       "unique            2         2         12   ...                          4   \n",
       "top               c         b          b   ...                          s   \n",
       "freq           6812      5612       1728   ...                       4936   \n",
       "\n",
       "       stalk-color-above-ring stalk-color-below-ring veil-type veil-color  \\\n",
       "count                    8124                   8124      8124       8124   \n",
       "unique                      9                      9         1          4   \n",
       "top                         w                      w         p          w   \n",
       "freq                     4464                   4384      8124       7924   \n",
       "\n",
       "       ring-number ring-type spore-print-color population habitat  \n",
       "count         8124      8124              8124       8124    8124  \n",
       "unique           3         5                 9          6       7  \n",
       "top              o         p                 w          v       d  \n",
       "freq          7488      3968              2388       4040    3148  \n",
       "\n",
       "[4 rows x 23 columns]"
      ]
     },
     "execution_count": 2,
     "metadata": {},
     "output_type": "execute_result"
    }
   ],
   "source": [
    "datos.describe()"
   ]
  },
  {
   "cell_type": "markdown",
   "metadata": {},
   "source": [
    "Separemos la clase de las demás características. Tomaremos la clase **comestible** (e) como positiva (+1) y *venenosa* (p) como negativa (-1)."
   ]
  },
  {
   "cell_type": "code",
   "execution_count": 3,
   "metadata": {},
   "outputs": [
    {
     "data": {
      "text/plain": [
       "0   -1\n",
       "1    1\n",
       "2    1\n",
       "3   -1\n",
       "4    1\n",
       "Name: class, dtype: int64"
      ]
     },
     "execution_count": 3,
     "metadata": {},
     "output_type": "execute_result"
    }
   ],
   "source": [
    "y = 2 * (datos['class'] == 'e') - 1   # +1 si (datos['class'] == 'e') == True == 1; -1 si (datos['class'] == 'e') == False == 0\n",
    "y.head()"
   ]
  },
  {
   "cell_type": "markdown",
   "metadata": {},
   "source": [
    "*Este conjunto de datos es perfectamente separable, por lo que es posible hacer predicciones con un 100% de exactitud. Para aprovechar mejor el ejercicio, vamos a usar solamente 4 de las 23 caracterìsticas:*"
   ]
  },
  {
   "cell_type": "code",
   "execution_count": 4,
   "metadata": {},
   "outputs": [
    {
     "data": {
      "text/html": [
       "<div>\n",
       "<style scoped>\n",
       "    .dataframe tbody tr th:only-of-type {\n",
       "        vertical-align: middle;\n",
       "    }\n",
       "\n",
       "    .dataframe tbody tr th {\n",
       "        vertical-align: top;\n",
       "    }\n",
       "\n",
       "    .dataframe thead th {\n",
       "        text-align: right;\n",
       "    }\n",
       "</style>\n",
       "<table border=\"1\" class=\"dataframe\">\n",
       "  <thead>\n",
       "    <tr style=\"text-align: right;\">\n",
       "      <th></th>\n",
       "      <th>cap-shape</th>\n",
       "      <th>bruises</th>\n",
       "      <th>gill-color</th>\n",
       "      <th>stalk-root</th>\n",
       "    </tr>\n",
       "  </thead>\n",
       "  <tbody>\n",
       "    <tr>\n",
       "      <th>0</th>\n",
       "      <td>x</td>\n",
       "      <td>t</td>\n",
       "      <td>k</td>\n",
       "      <td>e</td>\n",
       "    </tr>\n",
       "    <tr>\n",
       "      <th>1</th>\n",
       "      <td>x</td>\n",
       "      <td>t</td>\n",
       "      <td>k</td>\n",
       "      <td>c</td>\n",
       "    </tr>\n",
       "    <tr>\n",
       "      <th>2</th>\n",
       "      <td>b</td>\n",
       "      <td>t</td>\n",
       "      <td>n</td>\n",
       "      <td>c</td>\n",
       "    </tr>\n",
       "    <tr>\n",
       "      <th>3</th>\n",
       "      <td>x</td>\n",
       "      <td>t</td>\n",
       "      <td>n</td>\n",
       "      <td>e</td>\n",
       "    </tr>\n",
       "    <tr>\n",
       "      <th>4</th>\n",
       "      <td>x</td>\n",
       "      <td>f</td>\n",
       "      <td>k</td>\n",
       "      <td>e</td>\n",
       "    </tr>\n",
       "  </tbody>\n",
       "</table>\n",
       "</div>"
      ],
      "text/plain": [
       "  cap-shape bruises gill-color stalk-root\n",
       "0         x       t          k          e\n",
       "1         x       t          k          c\n",
       "2         b       t          n          c\n",
       "3         x       t          n          e\n",
       "4         x       f          k          e"
      ]
     },
     "execution_count": 4,
     "metadata": {},
     "output_type": "execute_result"
    }
   ],
   "source": [
    "X = datos[['cap-shape','bruises','gill-color','stalk-root']]\n",
    "X.head()"
   ]
  },
  {
   "cell_type": "markdown",
   "metadata": {},
   "source": [
    "#### Codificación de datos categóricos\n",
    "\n",
    "Antes de continuar necesitamos convertir los datos categóricos en datos numéricos. Dado que los valores de las columnas no son ordinales, preferimos usar indicadores binarios *(one-hot encoding)* para cada valor de las variables independientes. Pandas tiene una función muy práctica para ello, llamada [`get_dummies`](http://pandas.pydata.org/pandas-docs/stable/generated/pandas.get_dummies.html)"
   ]
  },
  {
   "cell_type": "code",
   "execution_count": 5,
   "metadata": {},
   "outputs": [
    {
     "data": {
      "text/html": [
       "<div>\n",
       "<style scoped>\n",
       "    .dataframe tbody tr th:only-of-type {\n",
       "        vertical-align: middle;\n",
       "    }\n",
       "\n",
       "    .dataframe tbody tr th {\n",
       "        vertical-align: top;\n",
       "    }\n",
       "\n",
       "    .dataframe thead th {\n",
       "        text-align: right;\n",
       "    }\n",
       "</style>\n",
       "<table border=\"1\" class=\"dataframe\">\n",
       "  <thead>\n",
       "    <tr style=\"text-align: right;\">\n",
       "      <th></th>\n",
       "      <th>cap-shape_b</th>\n",
       "      <th>cap-shape_c</th>\n",
       "      <th>cap-shape_f</th>\n",
       "      <th>cap-shape_k</th>\n",
       "      <th>cap-shape_s</th>\n",
       "      <th>cap-shape_x</th>\n",
       "      <th>bruises_f</th>\n",
       "      <th>bruises_t</th>\n",
       "      <th>gill-color_b</th>\n",
       "      <th>gill-color_e</th>\n",
       "      <th>...</th>\n",
       "      <th>gill-color_p</th>\n",
       "      <th>gill-color_r</th>\n",
       "      <th>gill-color_u</th>\n",
       "      <th>gill-color_w</th>\n",
       "      <th>gill-color_y</th>\n",
       "      <th>stalk-root_?</th>\n",
       "      <th>stalk-root_b</th>\n",
       "      <th>stalk-root_c</th>\n",
       "      <th>stalk-root_e</th>\n",
       "      <th>stalk-root_r</th>\n",
       "    </tr>\n",
       "  </thead>\n",
       "  <tbody>\n",
       "    <tr>\n",
       "      <th>0</th>\n",
       "      <td>0</td>\n",
       "      <td>0</td>\n",
       "      <td>0</td>\n",
       "      <td>0</td>\n",
       "      <td>0</td>\n",
       "      <td>1</td>\n",
       "      <td>0</td>\n",
       "      <td>1</td>\n",
       "      <td>0</td>\n",
       "      <td>0</td>\n",
       "      <td>...</td>\n",
       "      <td>0</td>\n",
       "      <td>0</td>\n",
       "      <td>0</td>\n",
       "      <td>0</td>\n",
       "      <td>0</td>\n",
       "      <td>0</td>\n",
       "      <td>0</td>\n",
       "      <td>0</td>\n",
       "      <td>1</td>\n",
       "      <td>0</td>\n",
       "    </tr>\n",
       "    <tr>\n",
       "      <th>1</th>\n",
       "      <td>0</td>\n",
       "      <td>0</td>\n",
       "      <td>0</td>\n",
       "      <td>0</td>\n",
       "      <td>0</td>\n",
       "      <td>1</td>\n",
       "      <td>0</td>\n",
       "      <td>1</td>\n",
       "      <td>0</td>\n",
       "      <td>0</td>\n",
       "      <td>...</td>\n",
       "      <td>0</td>\n",
       "      <td>0</td>\n",
       "      <td>0</td>\n",
       "      <td>0</td>\n",
       "      <td>0</td>\n",
       "      <td>0</td>\n",
       "      <td>0</td>\n",
       "      <td>1</td>\n",
       "      <td>0</td>\n",
       "      <td>0</td>\n",
       "    </tr>\n",
       "    <tr>\n",
       "      <th>2</th>\n",
       "      <td>1</td>\n",
       "      <td>0</td>\n",
       "      <td>0</td>\n",
       "      <td>0</td>\n",
       "      <td>0</td>\n",
       "      <td>0</td>\n",
       "      <td>0</td>\n",
       "      <td>1</td>\n",
       "      <td>0</td>\n",
       "      <td>0</td>\n",
       "      <td>...</td>\n",
       "      <td>0</td>\n",
       "      <td>0</td>\n",
       "      <td>0</td>\n",
       "      <td>0</td>\n",
       "      <td>0</td>\n",
       "      <td>0</td>\n",
       "      <td>0</td>\n",
       "      <td>1</td>\n",
       "      <td>0</td>\n",
       "      <td>0</td>\n",
       "    </tr>\n",
       "    <tr>\n",
       "      <th>3</th>\n",
       "      <td>0</td>\n",
       "      <td>0</td>\n",
       "      <td>0</td>\n",
       "      <td>0</td>\n",
       "      <td>0</td>\n",
       "      <td>1</td>\n",
       "      <td>0</td>\n",
       "      <td>1</td>\n",
       "      <td>0</td>\n",
       "      <td>0</td>\n",
       "      <td>...</td>\n",
       "      <td>0</td>\n",
       "      <td>0</td>\n",
       "      <td>0</td>\n",
       "      <td>0</td>\n",
       "      <td>0</td>\n",
       "      <td>0</td>\n",
       "      <td>0</td>\n",
       "      <td>0</td>\n",
       "      <td>1</td>\n",
       "      <td>0</td>\n",
       "    </tr>\n",
       "    <tr>\n",
       "      <th>4</th>\n",
       "      <td>0</td>\n",
       "      <td>0</td>\n",
       "      <td>0</td>\n",
       "      <td>0</td>\n",
       "      <td>0</td>\n",
       "      <td>1</td>\n",
       "      <td>1</td>\n",
       "      <td>0</td>\n",
       "      <td>0</td>\n",
       "      <td>0</td>\n",
       "      <td>...</td>\n",
       "      <td>0</td>\n",
       "      <td>0</td>\n",
       "      <td>0</td>\n",
       "      <td>0</td>\n",
       "      <td>0</td>\n",
       "      <td>0</td>\n",
       "      <td>0</td>\n",
       "      <td>0</td>\n",
       "      <td>1</td>\n",
       "      <td>0</td>\n",
       "    </tr>\n",
       "  </tbody>\n",
       "</table>\n",
       "<p>5 rows × 25 columns</p>\n",
       "</div>"
      ],
      "text/plain": [
       "   cap-shape_b  cap-shape_c  cap-shape_f  cap-shape_k  cap-shape_s  \\\n",
       "0            0            0            0            0            0   \n",
       "1            0            0            0            0            0   \n",
       "2            1            0            0            0            0   \n",
       "3            0            0            0            0            0   \n",
       "4            0            0            0            0            0   \n",
       "\n",
       "   cap-shape_x  bruises_f  bruises_t  gill-color_b  gill-color_e  \\\n",
       "0            1          0          1             0             0   \n",
       "1            1          0          1             0             0   \n",
       "2            0          0          1             0             0   \n",
       "3            1          0          1             0             0   \n",
       "4            1          1          0             0             0   \n",
       "\n",
       "       ...       gill-color_p  gill-color_r  gill-color_u  gill-color_w  \\\n",
       "0      ...                  0             0             0             0   \n",
       "1      ...                  0             0             0             0   \n",
       "2      ...                  0             0             0             0   \n",
       "3      ...                  0             0             0             0   \n",
       "4      ...                  0             0             0             0   \n",
       "\n",
       "   gill-color_y  stalk-root_?  stalk-root_b  stalk-root_c  stalk-root_e  \\\n",
       "0             0             0             0             0             1   \n",
       "1             0             0             0             1             0   \n",
       "2             0             0             0             1             0   \n",
       "3             0             0             0             0             1   \n",
       "4             0             0             0             0             1   \n",
       "\n",
       "   stalk-root_r  \n",
       "0             0  \n",
       "1             0  \n",
       "2             0  \n",
       "3             0  \n",
       "4             0  \n",
       "\n",
       "[5 rows x 25 columns]"
      ]
     },
     "execution_count": 5,
     "metadata": {},
     "output_type": "execute_result"
    }
   ],
   "source": [
    "X = pd.get_dummies(X)\n",
    "X.head()"
   ]
  },
  {
   "cell_type": "markdown",
   "metadata": {},
   "source": [
    "### Partición en conjuntos de entrenamiento y prueba"
   ]
  },
  {
   "cell_type": "code",
   "execution_count": 6,
   "metadata": {},
   "outputs": [],
   "source": [
    "from sklearn.model_selection import train_test_split\n",
    "\n",
    "X_train, X_test, y_train, y_test = train_test_split(X, y, test_size=0.25, random_state=0)"
   ]
  },
  {
   "cell_type": "markdown",
   "metadata": {},
   "source": [
    "### Entrenamiento de un clasificador de regresión logística"
   ]
  },
  {
   "cell_type": "code",
   "execution_count": 7,
   "metadata": {},
   "outputs": [],
   "source": [
    "from sklearn.linear_model import LogisticRegression\n",
    "\n",
    "modelo = LogisticRegression().fit(X_train, y_train)"
   ]
  },
  {
   "cell_type": "markdown",
   "metadata": {},
   "source": [
    "### Evaluación del modelo\n",
    "\n",
    "#### Exactitud\n",
    "\n",
    "En nuestros anteriores ejercicios hemos venido calculando la exactitud *(accuracy)* del modelo, definida como:\n",
    "\n",
    "$$\n",
    "\\mbox{exactitud} = \\frac{\\mbox{# predicciones correctas}}{\\mbox{# total de muestras}} \n",
    "$$\n",
    "\n",
    "A continuación calcularemos la exactitud del modelo en el **conjunto de prueba** y veremos también el modo de obtener este valor directamente con `scikit-learn`."
   ]
  },
  {
   "cell_type": "code",
   "execution_count": 8,
   "metadata": {},
   "outputs": [
    {
     "name": "stdout",
     "output_type": "stream",
     "text": [
      "Predicciones correctas :  1870\n",
      "Número de muestras     :  2031\n",
      "Exactitud (manual)     :  0.9207287050713934\n",
      "Exactitud (score)      :  0.9207287050713934\n",
      "Exactitud (metrics)    :  0.9207287050713934\n"
     ]
    }
   ],
   "source": [
    "from sklearn import metrics\n",
    "\n",
    "predicciones_test = modelo.predict(X_test)\n",
    "num_predicciones_correctas = (y_test == predicciones_test).sum()\n",
    "num_total_de_muestras = len(y_test)\n",
    "exactitud = num_predicciones_correctas / num_total_de_muestras\n",
    "\n",
    "print ( 'Predicciones correctas : ', num_predicciones_correctas )\n",
    "print ( 'Número de muestras     : ', num_total_de_muestras )\n",
    "print ( 'Exactitud (manual)     : ', exactitud )\n",
    "\n",
    "# Usando scikit-learn\n",
    "print ( 'Exactitud (score)      : ', modelo.score(X_test, y_test) )\n",
    "print ( 'Exactitud (metrics)    : ', metrics.accuracy_score(y_test, predicciones_test) )"
   ]
  },
  {
   "cell_type": "markdown",
   "metadata": {},
   "source": [
    "### Matriz de confusión\n",
    "\n",
    "La matriz de confusión es un sumario del rendimiento de un clasificador.\n",
    "\n",
    "![](CM.jpg)\n",
    "\n",
    "Para obtener sus valores usamos el método [`metrics.confusion_matrix`](http://scikit-learn.org/stable/modules/generated/sklearn.metrics.confusion_matrix.html):"
   ]
  },
  {
   "cell_type": "code",
   "execution_count": 9,
   "metadata": {},
   "outputs": [
    {
     "name": "stdout",
     "output_type": "stream",
     "text": [
      "              +-----------------+\n",
      "              |   Predicción    |\n",
      "              +-----------------+\n",
      "              |    +   |    -   |\n",
      "+-------+-----+--------+--------+\n",
      "| Valor |  +  |   1042 |   19   |\n",
      "| real  +-----+--------+--------+\n",
      "|       |  -  |   142  |   828  |\n",
      "+-------+-----+--------+--------+\n",
      "\n",
      "Exactitud    :  0.9207287050713934\n"
     ]
    }
   ],
   "source": [
    "matriz_confusion = metrics.confusion_matrix(y_test, predicciones_test)\n",
    "\n",
    "# Mapeo según http://scikit-learn.org/stable/modules/generated/sklearn.metrics.confusion_matrix.html\n",
    "TN = matriz_confusion[0,0]\n",
    "FN = matriz_confusion[1,0]\n",
    "FP = matriz_confusion[0,1]\n",
    "TP = matriz_confusion[1,1]\n",
    "\n",
    "print ('              +-----------------+')\n",
    "print ('              |   Predicción    |')\n",
    "print ('              +-----------------+')\n",
    "print ('              |    +   |    -   |')\n",
    "print ('+-------+-----+--------+--------+')\n",
    "print ('| Valor |  +  |   %d |   %d   |'   % (TP, FN) )\n",
    "print ('| real  +-----+--------+--------+')\n",
    "print ('|       |  -  |   %d  |   %d  |'    % (FP, TN) )\n",
    "print ('+-------+-----+--------+--------+')\n",
    "print ()\n",
    "print ( 'Exactitud    : ', (TP+TN)/(TP+FN+FP+TN) )"
   ]
  },
  {
   "cell_type": "markdown",
   "metadata": {},
   "source": [
    "**Pregunta 1:** ¿Cuántas de las setas venenosas del conjunto de prueba fueron clasificadas como comestibles por el modelo?\n",
    "\n",
    "**Pregunta 2:** ¿Qué nombre recibe el valor indicado en la pregunta 1?\n",
    "\n",
    "**Pregunta 3:** ¿Qué proporción de las setas venenosas fueron clasificadas correctamente?\n",
    "\n",
    "**Pregunta 4:** ¿Qué nombre recibe el valor indicado en la pregunta 3?\n",
    "\n",
    "**Pregunta 5:** ¿Qué proporción de las setas comestibles fueron clasificadas correctamente?\n",
    "\n",
    "**Pregunta 6:** ¿Qué nombre recibe el valor indicado en la pregunta 5?\n",
    "\n",
    "**Pregunta 7:** ¿Qué proporción de las setas clasificadas como comestibles son realmente comestibles?\n",
    "\n",
    "**Pregunta 8:** ¿Qué nombre recibe el valor indicado en la pregunta 7?"
   ]
  },
  {
   "cell_type": "code",
   "execution_count": 10,
   "metadata": {},
   "outputs": [
    {
     "name": "stdout",
     "output_type": "stream",
     "text": [
      "142\n",
      "Como las setas venenosas clasificadas como positivas , son falso positivos \n",
      "\n",
      "0.8536082474226804\n",
      "Las setas venenosas son los 'negativos' para estudiarlas usamos la metrica 'especificidad'  \n",
      "\n",
      "0.9820923656927427\n",
      "Recall , Sensitividad o Exhaustividad \n",
      "\n",
      "0.8800675675675675\n",
      "Precision \n",
      "\n"
     ]
    }
   ],
   "source": [
    "# Tus respuestas\n",
    "#pregunta 1\n",
    "comestibles_reales_test=np.count_nonzero(y_test == 1)\n",
    "comestibles_modelo=np.count_nonzero(predicciones_test == 1)\n",
    "venenosas_reales_test=np.count_nonzero(y_test == -1)\n",
    "venenosas_modelo=np.count_nonzero(predicciones_test == -1)\n",
    "\n",
    "#X_train\n",
    "venenosas_reales_test \n",
    "comestibles_reales_test\n",
    "\n",
    "\n",
    "#Pregunta 1\n",
    "print(FP)\n",
    "\n",
    "\n",
    "#Pregunta 2 \n",
    "print(\"Como las setas venenosas clasificadas como positivas , son falso positivos \\n\")\n",
    "\n",
    "\n",
    "#Pregunta 3\n",
    "print(TN/(TN+FP))\n",
    "\n",
    "#Pregunta 4 \n",
    "print(\"Las setas venenosas son los 'negativos' para estudiarlas usamos la metrica 'especificidad'  \\n\")\n",
    "\n",
    "#Pregunta 5 \n",
    "print(TP/(TP+FN))\n",
    "\n",
    "#Pregunta 6\n",
    "print(\"Recall , Sensitividad o Exhaustividad \\n\")\n",
    "\n",
    "#Pregunta 7\n",
    "print(TP/(TP+FP))\n",
    "\n",
    "#Pregunta 8\n",
    "print(\"Precision \\n\")\n",
    "\n",
    "\n",
    "\n",
    "\n"
   ]
  },
  {
   "cell_type": "markdown",
   "metadata": {},
   "source": [
    "### Calculando el costo de los errores\n",
    "\n",
    "Ponte en el caso de un conjunto de exploradores que dependen del modelo que hemos entrenado para alimentarse de setas. Que se clasifique como venenosa una seta comestible es claramente menos perjudicial que clasificar como comestible una seta venenosa. En otras palabras, **en nuestro caso los falsos negativos cuestan menos que los falsos positivos**.\n",
    "\n",
    "Supongamos que podemos cuantificar este costo:\n",
    "1. S/ 1.00 por cada falso negativo\n",
    "2. S/ 1,000.00 por cada falso positivo\n",
    "3. Las clasificaciones correctas no representan costo alguno\n",
    "\n",
    "**Pregunta 9:** Bajo el supuesto indicado, ¿cuál sería el costo total asociado al rendimiento del modelo de regresión logística en el **conjunto de pruebas**?"
   ]
  },
  {
   "cell_type": "code",
   "execution_count": 11,
   "metadata": {},
   "outputs": [
    {
     "name": "stdout",
     "output_type": "stream",
     "text": [
      "Costo total asociado:\n",
      "142019\n"
     ]
    }
   ],
   "source": [
    "# Tu respuesta\n",
    "\n",
    "costo = FN *1 + FP*1000\n",
    "print(\"Costo total asociado:\")\n",
    "print(costo)\n"
   ]
  },
  {
   "cell_type": "markdown",
   "metadata": {},
   "source": [
    "### Curva ROC\n",
    "\n",
    "Recordemos que el modelo de regresión logística es optimizado para predecir la probabilidad de que un ejemplo sea positivo, prediciendo $+1$ cuando esta probabilidad es mayor que el **umbral** de $0.5$. Podemos verificarlo:"
   ]
  },
  {
   "cell_type": "code",
   "execution_count": 12,
   "metadata": {},
   "outputs": [
    {
     "name": "stdout",
     "output_type": "stream",
     "text": [
      "Probabilidad de la clase negativa y de la clase positiva :\n",
      "[[0.07859112 0.92140888]\n",
      " [0.36306489 0.63693511]\n",
      " [0.05093096 0.94906904]\n",
      " ...\n",
      " [0.99536211 0.00463789]\n",
      " [0.05093096 0.94906904]\n",
      " [0.15247325 0.84752675]]\n"
     ]
    }
   ],
   "source": [
    "probabilidades_test = modelo.predict_proba(X_test)\n",
    "print ('Probabilidad de la clase negativa y de la clase positiva :')\n",
    "print (probabilidades_test)"
   ]
  },
  {
   "cell_type": "code",
   "execution_count": 13,
   "metadata": {},
   "outputs": [
    {
     "name": "stdout",
     "output_type": "stream",
     "text": [
      "Exactitud :  0.9207287050713934\n"
     ]
    }
   ],
   "source": [
    "# Predecimos +1 siempre que la probabilidad de la clase positiva sea mayor a 0.5\n",
    "predicciones_test = np.where(probabilidades_test[:,1] > 0.5, +1, -1) \n",
    "print ( 'Exactitud : ', metrics.accuracy_score(y_test, predicciones_test) )"
   ]
  },
  {
   "cell_type": "markdown",
   "metadata": {},
   "source": [
    "Si variamos el valor del umbral, podemos controlar el **nivel de confianza** que le exigimos al modelo para sus predicciones. Dependiendo del valor elegido para el umbral, el número de verdaderos positivos y de falsos positivos variarán de manera complementaria con relación al número total de positivos. Esto es lo que se grafica en una curva ROC. "
   ]
  },
  {
   "cell_type": "code",
   "execution_count": 25,
   "metadata": {},
   "outputs": [
    {
     "name": "stdout",
     "output_type": "stream",
     "text": [
      "33\n"
     ]
    },
    {
     "data": {
      "image/png": "[encoded data removed]",
      "text/plain": [
       "<Figure size 432x288 with 1 Axes>"
      ]
     },
     "metadata": {},
     "output_type": "display_data"
    }
   ],
   "source": [
    "fpr, tpr, umbrales = metrics.roc_curve(y_test, probabilidades_test[:,1])\n",
    "auc_roc = metrics.roc_auc_score(y_test, probabilidades_test[:,1])\n",
    "\n",
    "plt.rcParams.update({'font.size': 9})\n",
    "plt.plot(fpr, tpr, label= (\"Curva ROC\") )\n",
    "plt.xlabel(\"FPR\")\n",
    "plt.ylabel(\"TPR (exhaustividad)\")\n",
    "plt.title((\"Curva ROC (AUC = %.4f)\" % auc_roc))\n",
    "# ubicamos el punto más cercano a 0.5\n",
    "umbral_05 = np.argmin(np.abs(umbrales - 0.5))\n",
    "plt.plot(fpr[umbral_05], tpr[umbral_05], 'o', markersize=10,\n",
    "         label=\"Umbral 0.5\", fillstyle=\"none\", c='r', mew=2)\n",
    "plt.legend(loc='best', numpoints = 1)\n",
    "\n",
    "\n"
   ]
  },
  {
   "cell_type": "markdown",
   "metadata": {},
   "source": [
    "**Pregunta 10:** Según la curva ROC del modelo, ¿cuál de las siguientes dos medidas es mayor en el punto de operación correspondiente al umbral de probabilidad $0.5$: exhaustividad o tasa de falsos positivos?"
   ]
  },
  {
   "cell_type": "code",
   "execution_count": 15,
   "metadata": {},
   "outputs": [
    {
     "name": "stdout",
     "output_type": "stream",
     "text": [
      "La exhaustividad es mayor\n"
     ]
    }
   ],
   "source": [
    "# Tu respuesta\n",
    "\n",
    "if(fpr[umbral_05]>tpr[umbral_05]):\n",
    "    print(\"La tasa de falsos positivos es mayor\")\n",
    "    \n",
    "else :\n",
    "    print(\"La exhaustividad es mayor\")\n",
    "    \n",
    "\n"
   ]
  },
  {
   "cell_type": "markdown",
   "metadata": {},
   "source": [
    "#### Precisión y exhaustividad\n",
    "\n",
    "En casos como este, no nos importa tanto el número total de errores sino más bien disminuir el número de falsos positivos, lo cual implica aumentar la **precisión**:\n",
    "\n",
    "$$\n",
    "\\mbox{precisión} = \\frac{\\text{# ejemplos positivos clasificados como positivos}}{\\text{# ejemplos clasificados como positivos}} = \\frac{TP}{TP + FP}\n",
    "$$\n",
    "\n",
    "Obtengamos la precisión de nuestro modelo en el conjunto de pruebas (umbral por defecto $0.5$):"
   ]
  },
  {
   "cell_type": "code",
   "execution_count": 16,
   "metadata": {},
   "outputs": [
    {
     "name": "stdout",
     "output_type": "stream",
     "text": [
      "Precisión           :  0.8800675675675675\n",
      "Precisión (metrics) :  0.8800675675675675\n"
     ]
    }
   ],
   "source": [
    "print ( 'Precisión           : ', TP/(TP+FP) ) \n",
    "\n",
    "# Usando scikit-learn\n",
    "print ( 'Precisión (metrics) : ', metrics.precision_score(y_test, predicciones_test) )"
   ]
  },
  {
   "cell_type": "markdown",
   "metadata": {},
   "source": [
    "La exhaustividad *(recall)* es una medida complementaria a la precisión:\n",
    "    \n",
    "$$\n",
    "\\mbox{exhaustividad} = \\frac{\\text{# ejemplos positivos clasificados como positivos}}{\\text{# ejemplos positivos}} = \\frac{TP}{TP + FN}\n",
    "$$\n",
    "\n",
    "Obtengamos la exhastividad de nuestro modelo en el conjunto de pruebas:"
   ]
  },
  {
   "cell_type": "code",
   "execution_count": 17,
   "metadata": {},
   "outputs": [
    {
     "name": "stdout",
     "output_type": "stream",
     "text": [
      "Exhaustividad           :  0.9820923656927427\n",
      "Exhaustividad (metrics) :  0.9820923656927427\n"
     ]
    }
   ],
   "source": [
    "print ( 'Exhaustividad           : ', TP/(TP+FN) ) \n",
    "\n",
    "# Usando scikit-learn\n",
    "print ( 'Exhaustividad (metrics) : ', metrics.recall_score(y_test, predicciones_test) )"
   ]
  },
  {
   "cell_type": "markdown",
   "metadata": {},
   "source": [
    "**Pregunta 11:** ¿Cuál será la exhaustividad de un modelo que prediga siempre $+1$? "
   ]
  },
  {
   "cell_type": "code",
   "execution_count": 16,
   "metadata": {},
   "outputs": [
    {
     "name": "stdout",
     "output_type": "stream",
     "text": [
      "Si el modelo predice siempre +1, entonces no habria falso negativos\n",
      "Exhaustividad\n",
      "1.0\n"
     ]
    }
   ],
   "source": [
    "# Tu respuesta\n",
    "print(\"Si el modelo predice siempre +1, entonces no habria falso negativos\")\n",
    "print(\"Exhaustividad\")\n",
    "print(TP/(TP+0))\n"
   ]
  },
  {
   "cell_type": "markdown",
   "metadata": {},
   "source": [
    "Para mejorar la precisión, podemos intentar exigir un mayor nivel de confianza en las predicciones. Veamos lo que ocurre si establecemos un umbral alto de $0.92$ y uno muy alto de $0.95$:"
   ]
  },
  {
   "cell_type": "code",
   "execution_count": 27,
   "metadata": {},
   "outputs": [
    {
     "name": "stdout",
     "output_type": "stream",
     "text": [
      "Umbral 0.5\n",
      "----------\n",
      "Número de predicciones positivas :  1184\n",
      "Exactitud     :  0.9207287050713934\n",
      "Precisión     :  0.8800675675675675\n",
      "Exhaustividad :  0.9820923656927427\n",
      "\n",
      "Umbral 0.92\n",
      "-----------\n",
      "Número de predicciones positivas :  356\n",
      "Exactitud     :  0.5928114229443624\n",
      "Precisión     :  0.8286516853932584\n",
      "Exhaustividad :  0.2780395852968897\n",
      "\n",
      "Umbral 0.95\n",
      "-----------\n",
      "Número de predicciones positivas :  273\n",
      "Exactitud     :  0.5972427375677006\n",
      "Precisión     :  0.945054945054945\n",
      "Exhaustividad :  0.24316682375117812\n"
     ]
    }
   ],
   "source": [
    "print ( 'Umbral 0.5' )\n",
    "print ( '----------' )\n",
    "print ( 'Número de predicciones positivas : ', (predicciones_test == 1).sum() )\n",
    "print ( 'Exactitud     : ', metrics.accuracy_score(y_test, predicciones_test) )\n",
    "print ( 'Precisión     : ', metrics.precision_score(y_test, predicciones_test) )\n",
    "print ( 'Exhaustividad : ', metrics.recall_score(y_test, predicciones_test) )\n",
    "\n",
    "print ()\n",
    "\n",
    "predicciones_test_umbral_alto = np.where(probabilidades_test[:,1] > 0.92, +1, -1) \n",
    "print ( 'Umbral 0.92' )\n",
    "print ( '-----------' )\n",
    "print ( 'Número de predicciones positivas : ', (predicciones_test_umbral_alto == 1).sum() )\n",
    "print ( 'Exactitud     : ', metrics.accuracy_score(y_test, predicciones_test_umbral_alto) )\n",
    "print ( 'Precisión     : ', metrics.precision_score(y_test, predicciones_test_umbral_alto) )\n",
    "print ( 'Exhaustividad : ', metrics.recall_score(y_test, predicciones_test_umbral_alto) )\n",
    "print ()\n",
    "\n",
    "predicciones_test_umbral_muy_alto = np.where(probabilidades_test[:,1] > 0.95, +1, -1) \n",
    "print ( 'Umbral 0.95' )\n",
    "print ( '-----------' )\n",
    "print ( 'Número de predicciones positivas : ', (predicciones_test_umbral_muy_alto == 1).sum() )\n",
    "print ( 'Exactitud     : ', metrics.accuracy_score(y_test, predicciones_test_umbral_muy_alto) )\n",
    "print ( 'Precisión     : ', metrics.precision_score(y_test, predicciones_test_umbral_muy_alto) )\n",
    "print ( 'Exhaustividad : ', metrics.recall_score(y_test, predicciones_test_umbral_muy_alto) )\n"
   ]
  },
  {
   "cell_type": "markdown",
   "metadata": {},
   "source": [
    "**Pregunta 12:** ¿En el umbral $0.95$ se tiene una mayor precisión que en $0.5$?\n",
    "\n",
    "**Pregunta 13:** ¿Aumentar el umbral garantiza un aumento de la precisión?"
   ]
  },
  {
   "cell_type": "code",
   "execution_count": 29,
   "metadata": {},
   "outputs": [
    {
     "name": "stdout",
     "output_type": "stream",
     "text": [
      "El umbral 0.95 tiene mayor precisión que el umbral 0.5\n",
      "Precisión en 0.5\n",
      "0.8800675675675675\n",
      "Precisión en 0.92\n",
      "0.8286516853932584\n",
      "Aumentar el umbral no garantiza mayor precision\n"
     ]
    }
   ],
   "source": [
    "# Tus respuestas\n",
    "\n",
    "#pregunta 12\n",
    "\n",
    "if(metrics.precision_score(y_test, predicciones_test_umbral_muy_alto)>metrics.precision_score(y_test, predicciones_test)):\n",
    "    print(\"El umbral 0.95 tiene mayor precisión que el umbral 0.5\")\n",
    "    \n",
    "else :\n",
    "    print(\"El umbral 0.5 tiene mayor precisión que el umbral 0.95\")\n",
    "    \n",
    "#pregunta 13\n",
    "print(\"Precisión en 0.5\")\n",
    "print(metrics.precision_score(y_test, predicciones_test))\n",
    "print(\"Precisión en 0.92\")\n",
    "print(metrics.precision_score(y_test, predicciones_test_umbral_alto))\n",
    "print(\"Aumentar el umbral no garantiza mayor precision\")"
   ]
  },
  {
   "cell_type": "markdown",
   "metadata": {},
   "source": [
    "#### Curva de precisión-exhaustividad\n",
    "\n",
    "Examina la curva de precisión-exhaustividad, en la que marcaremos los tres umbrales anteriores."
   ]
  },
  {
   "cell_type": "code",
   "execution_count": 21,
   "metadata": {},
   "outputs": [
    {
     "data": {
      "text/plain": [
       "<matplotlib.legend.Legend at 0x7f0e18cd4ba8>"
      ]
     },
     "execution_count": 21,
     "metadata": {},
     "output_type": "execute_result"
    },
    {
     "data": {
      "image/png": "[encoded data removed]",
      "text/plain": [
       "<Figure size 432x288 with 1 Axes>"
      ]
     },
     "metadata": {},
     "output_type": "display_data"
    }
   ],
   "source": [
    "precision, exhaustividad, umbrales = metrics.precision_recall_curve(y_test, probabilidades_test[:,1])\n",
    "precision_media = metrics.average_precision_score(y_test, probabilidades_test[:,1])\n",
    "\n",
    "plt.plot(precision, exhaustividad, label= (\"Curva de Precisión-Exhaustividad\"), c='m' )\n",
    "plt.xlabel(\"Precisión\")\n",
    "plt.ylabel(\"Exhaustividad\")\n",
    "plt.title((\"Curva de Precisión-Exhaustividad (Precisión media = %.4f)\" % precision_media))\n",
    "\n",
    "umbral_05 = np.argmin(np.abs(umbrales - 0.5))\n",
    "plt.plot(precision[umbral_05], exhaustividad[umbral_05], 'o', markersize=10,\n",
    "         label=\"Umbral 0.5\", fillstyle=\"none\", c='r', mew=2)\n",
    "\n",
    "umbral_092 = np.argmin(np.abs(umbrales - 0.92))\n",
    "plt.plot(precision[umbral_092], exhaustividad[umbral_092], 'o', markersize=10,\n",
    "         label=\"Umbral 0.92\", fillstyle=\"none\", c='g', mew=2)\n",
    "\n",
    "umbral_095 = np.argmin(np.abs(umbrales - 0.95))\n",
    "plt.plot(precision[umbral_095], exhaustividad[umbral_095], 'o', markersize=10,\n",
    "         label=\"Umbral 0.95\", fillstyle=\"none\", c='b', mew=2)\n",
    "\n",
    "plt.gca().set_xlim([0,1])\n",
    "plt.gca().set_ylim([0,1])\n",
    "plt.legend(loc='best', numpoints = 1)"
   ]
  },
  {
   "cell_type": "markdown",
   "metadata": {},
   "source": [
    "### Escogiendo un punto de operación\n",
    "\n",
    "Supongamos que queremos buscar como punto de operación el umbral que resulte en la mayor exhaustividad con una precisión igual o mayor a 95%."
   ]
  },
  {
   "cell_type": "code",
   "execution_count": 22,
   "metadata": {},
   "outputs": [
    {
     "data": {
      "text/html": [
       "<div>\n",
       "<style scoped>\n",
       "    .dataframe tbody tr th:only-of-type {\n",
       "        vertical-align: middle;\n",
       "    }\n",
       "\n",
       "    .dataframe tbody tr th {\n",
       "        vertical-align: top;\n",
       "    }\n",
       "\n",
       "    .dataframe thead th {\n",
       "        text-align: right;\n",
       "    }\n",
       "</style>\n",
       "<table border=\"1\" class=\"dataframe\">\n",
       "  <thead>\n",
       "    <tr style=\"text-align: right;\">\n",
       "      <th></th>\n",
       "      <th>Exhaustividad</th>\n",
       "      <th>Precisión</th>\n",
       "      <th>Umbrales</th>\n",
       "    </tr>\n",
       "  </thead>\n",
       "  <tbody>\n",
       "    <tr>\n",
       "      <th>67</th>\n",
       "      <td>0.162111</td>\n",
       "      <td>0.960894</td>\n",
       "      <td>0.972970</td>\n",
       "    </tr>\n",
       "    <tr>\n",
       "      <th>68</th>\n",
       "      <td>0.157399</td>\n",
       "      <td>0.959770</td>\n",
       "      <td>0.973052</td>\n",
       "    </tr>\n",
       "    <tr>\n",
       "      <th>69</th>\n",
       "      <td>0.157399</td>\n",
       "      <td>0.988166</td>\n",
       "      <td>0.974458</td>\n",
       "    </tr>\n",
       "    <tr>\n",
       "      <th>70</th>\n",
       "      <td>0.146089</td>\n",
       "      <td>0.987261</td>\n",
       "      <td>0.974643</td>\n",
       "    </tr>\n",
       "    <tr>\n",
       "      <th>71</th>\n",
       "      <td>0.146089</td>\n",
       "      <td>1.000000</td>\n",
       "      <td>0.975084</td>\n",
       "    </tr>\n",
       "  </tbody>\n",
       "</table>\n",
       "</div>"
      ],
      "text/plain": [
       "    Exhaustividad  Precisión  Umbrales\n",
       "67       0.162111   0.960894  0.972970\n",
       "68       0.157399   0.959770  0.973052\n",
       "69       0.157399   0.988166  0.974458\n",
       "70       0.146089   0.987261  0.974643\n",
       "71       0.146089   1.000000  0.975084"
      ]
     },
     "execution_count": 22,
     "metadata": {},
     "output_type": "execute_result"
    }
   ],
   "source": [
    "umbrales_precision_exhaustividad = pd.DataFrame({ \n",
    "        'Exhaustividad' : exhaustividad,\n",
    "        'Precisión' : precision,\n",
    "        'Umbrales' : np.append(umbrales, 1) # El último umbral es siempre 1\n",
    "    })\n",
    "\n",
    "umbrales_precision_exhaustividad[umbrales_precision_exhaustividad['Precisión'] >= .95].head()"
   ]
  },
  {
   "cell_type": "markdown",
   "metadata": {},
   "source": [
    "**Pregunta 14:** ¿Si queremos alcanzar una precisión de 95%, qué nivel mínimo de confianza debemos exigir a la probabilidad producida por el modelo?"
   ]
  },
  {
   "cell_type": "code",
   "execution_count": 23,
   "metadata": {},
   "outputs": [],
   "source": [
    "# Tu respuesta"
   ]
  },
  {
   "cell_type": "code",
   "execution_count": null,
   "metadata": {},
   "outputs": [],
   "source": []
  }
 ],
 "metadata": {
  "anaconda-cloud": {},
  "kernelspec": {
   "display_name": "Python 3",
   "language": "python",
   "name": "python3"
  },
  "language_info": {
   "codemirror_mode": {
    "name": "ipython",
    "version": 3
   },
   "file_extension": ".py",
   "mimetype": "text/x-python",
   "name": "python",
   "nbconvert_exporter": "python",
   "pygments_lexer": "ipython3",
   "version": "3.6.6"
  }
 },
 "nbformat": 4,
 "nbformat_minor": 2
}
