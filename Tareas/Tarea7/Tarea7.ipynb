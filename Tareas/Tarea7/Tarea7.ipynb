{
 "cells": [
  {
   "cell_type": "markdown",
   "metadata": {},
   "source": [
    "## Tarea 7 del curso CM-072\n",
    "\n",
    "* Nombre y apellidos:\n",
    "* Fecha de presentación: 17 de octubre.\n",
    "\n",
    "\n",
    "\n",
    "LendingClub es una compañía de préstamos *peer-to-peer* que conecta directamente a los prestatarios con potenciales prestamistas/inversionistas.\n",
    "\n",
    "Construirás un modelo de clasificación para predecir si un préstamo realizado a través del LendingClub tiene probabilidad de no ser pagado."
   ]
  },
  {
   "cell_type": "code",
   "execution_count": 1,
   "metadata": {},
   "outputs": [],
   "source": [
    "import numpy as np\n",
    "import pandas as pd\n",
    "import matplotlib.pyplot as plt\n",
    "%matplotlib inline\n",
    "\n",
    "loans = pd.read_csv(\"lending-club-data.csv\", low_memory=False)\n"
   ]
  },
  {
   "cell_type": "markdown",
   "metadata": {},
   "source": [
    "1 . Carga en una variable de nombre `todo_columnas` el nombre de todas las columnas del conjunto de datos."
   ]
  },
  {
   "cell_type": "code",
   "execution_count": 2,
   "metadata": {},
   "outputs": [
    {
     "name": "stdout",
     "output_type": "stream",
     "text": [
      "['id', 'member_id', 'loan_amnt', 'funded_amnt', 'funded_amnt_inv', 'term', 'int_rate', 'installment', 'grade', 'sub_grade', 'emp_title', 'emp_length', 'home_ownership', 'annual_inc', 'is_inc_v', 'issue_d', 'loan_status', 'pymnt_plan', 'url', 'desc', 'purpose', 'title', 'zip_code', 'addr_state', 'dti', 'delinq_2yrs', 'earliest_cr_line', 'inq_last_6mths', 'mths_since_last_delinq', 'mths_since_last_record', 'open_acc', 'pub_rec', 'revol_bal', 'revol_util', 'total_acc', 'initial_list_status', 'out_prncp', 'out_prncp_inv', 'total_pymnt', 'total_pymnt_inv', 'total_rec_prncp', 'total_rec_int', 'total_rec_late_fee', 'recoveries', 'collection_recovery_fee', 'last_pymnt_d', 'last_pymnt_amnt', 'next_pymnt_d', 'last_credit_pull_d', 'collections_12_mths_ex_med', 'mths_since_last_major_derog', 'policy_code', 'not_compliant', 'status', 'inactive_loans', 'bad_loans', 'emp_length_num', 'grade_num', 'sub_grade_num', 'delinq_2yrs_zero', 'pub_rec_zero', 'collections_12_mths_zero', 'short_emp', 'payment_inc_ratio', 'final_d', 'last_delinq_none', 'last_record_none', 'last_major_derog_none']\n"
     ]
    }
   ],
   "source": [
    "# Solucion\n",
    "todo_columnas=list(loans)\n",
    "print(todo_columnas)"
   ]
  },
  {
   "cell_type": "markdown",
   "metadata": {},
   "source": [
    "2 . La columna que contiene la información que queremos predecir se llama `malos_prestamos`. En esta columna, el valor 1 significa un préstamo riesgoso (malo), mientras que 0 significa un préstamos seguro.\n",
    "\n",
    "Para hacer el trabajo más intuitivo, crea una nueva columna `prestamos_seguros` con el siguiente valor:\n",
    "\n",
    "* +1 si es un préstamo seguro\n",
    "* -1 si es un préstamos riesgoso (malo)"
   ]
  },
  {
   "cell_type": "code",
   "execution_count": 3,
   "metadata": {},
   "outputs": [
    {
     "name": "stdout",
     "output_type": "stream",
     "text": [
      "0    1\n",
      "1   -1\n",
      "2    1\n",
      "3    1\n",
      "4    1\n",
      "Name: prestamos_seguros, dtype: int64\n",
      "122607\n"
     ]
    }
   ],
   "source": [
    "# Solucion\n",
    "loans=loans.assign(prestamos_seguros=2*(loans['bad_loans']==0)-1)\n",
    "print(loans['prestamos_seguros'].head())\n",
    "print(len(loans))"
   ]
  },
  {
   "cell_type": "markdown",
   "metadata": {},
   "source": [
    "3 . Calcula la distribución en porcentaje de préstamos malos y préstamos buenos (debe sumar 100%)."
   ]
  },
  {
   "cell_type": "code",
   "execution_count": 4,
   "metadata": {},
   "outputs": [
    {
     "name": "stdout",
     "output_type": "stream",
     "text": [
      "Porcentaje de prestamos Buenos: 81.12\n",
      "\n",
      "Porcentaje de prestamos Malos: 18.88\n"
     ]
    }
   ],
   "source": [
    "# Tu solución\n",
    "prestamos_totales=len(loans['prestamos_seguros'])\n",
    "#print(prestamos_totales)\n",
    "prestamos_buenos=((loans['prestamos_seguros']==1)*1).sum()\n",
    "prestamos_malos=((loans['prestamos_seguros']==-1)*1).sum()\n",
    "\n",
    "print(\"Porcentaje de prestamos Buenos: {0:.2f}\".format(prestamos_buenos/prestamos_totales*100))\n",
    "print()\n",
    "print(\"Porcentaje de prestamos Malos: {0:.2f}\".format(prestamos_malos/prestamos_totales*100))\n",
    "\n",
    "\n",
    "#print(prestamos_buenos,prestamos_malos,(prestamos_buenos+prestamos_malos))\n",
    "#print(loans['prestamos_seguros']==-1)"
   ]
  },
  {
   "cell_type": "markdown",
   "metadata": {},
   "source": [
    "4 . Una manera de abordar conjuntos de datos desbalanceados es con un submuestreo  de la clase más grande hasta que la distribución de clases sea mitad y mitad. Vamos a realizar un submuestreo de los préstamos buenos para balancear nuestro conjunto de datos. Ello significa que vamos a descartar muchas observaciones. \n",
    "\n",
    "* Pon en una variable `prestamos_arriesgado` todos y solo los préstamos malos.\n",
    "* Pon en una variable `prestamos_seguros` una muestra aleatoria de préstamos buenos **del mismo tamaño** que la cantidad de préstamos malos. (Usa [pandas.DataFrame.sample](https://pandas.pydata.org/pandas-docs/stable/generated/pandas.DataFrame.sample.html) con el atributo `random_state=0`)\n",
    "* Junta en una nueva variable `prestamos_balanceados`, los dos grupos anteriores: `prestamos_arriesgados` y `prestamos_seguros`."
   ]
  },
  {
   "cell_type": "code",
   "execution_count": 5,
   "metadata": {},
   "outputs": [
    {
     "name": "stdout",
     "output_type": "stream",
     "text": [
      "            id  member_id  loan_amnt  funded_amnt  funded_amnt_inv  \\\n",
      "63114  3932766    5156804      12000        12000            12000   \n",
      "\n",
      "             term  int_rate  installment grade sub_grade        ...         \\\n",
      "63114   36 months     10.16       388.11     B        B1        ...          \n",
      "\n",
      "      delinq_2yrs_zero pub_rec_zero collections_12_mths_zero  short_emp  \\\n",
      "63114              1.0          1.0                      1.0          0   \n",
      "\n",
      "      payment_inc_ratio          final_d last_delinq_none last_record_none  \\\n",
      "63114           6.33649  20160501T000000                1                1   \n",
      "\n",
      "      last_major_derog_none prestamos_seguros  \n",
      "63114                     1                 1  \n",
      "\n",
      "[1 rows x 69 columns]\n",
      "46300\n"
     ]
    }
   ],
   "source": [
    "# Tus soluciones\n",
    "#prestamos_seguros=loans.loc[\"prestamos_seguros\"==1].sample(len(prestamos_malos))\n",
    "prestamos_seguros=loans.loc[loans[\"prestamos_seguros\"]==1].sample(prestamos_malos)\n",
    "prestamos_arriesgado=loans.loc[loans[\"prestamos_seguros\"]==-1]\n",
    "\n",
    "\n",
    "prestamos_balanceados=pd.concat([prestamos_seguros,prestamos_arriesgado])\n",
    "\n",
    "print(prestamos_balanceados.head(1))\n",
    "print(len(prestamos_balanceados))"
   ]
  },
  {
   "cell_type": "markdown",
   "metadata": {},
   "source": [
    "5 . Asigna a una variable `subconjunto_prestamos` sólo el siguiente subconjunto de características que son las que usaremos:\n",
    "\n",
    "```python\n",
    "caracteristica = ['grade',               # grade of the loan\n",
    "            'sub_grade',                 # sub-grade of the loan\n",
    "            'short_emp',                 # one year or less of employment\n",
    "            'emp_length_num',            # number of years of employment\n",
    "            'home_ownership',            # home_ownership status: own, mortgage or rent\n",
    "            'dti',                       # debt to income ratio\n",
    "            'purpose',                   # the purpose of the loan\n",
    "            'term',                      # the term of the loan\n",
    "            'last_delinq_none',          # has borrower had a delinquincy\n",
    "            'last_major_derog_none',     # has borrower had 90 day or worse rating\n",
    "            'revol_util',                # percent of available credit being used\n",
    "            'total_rec_late_fee',        # total late fees received to day\n",
    "           ]\n",
    "```\n",
    "\n",
    "Asimismo, asigna a una variable **`y`** los valores de la columna `prestamos_seguros`."
   ]
  },
  {
   "cell_type": "code",
   "execution_count": 6,
   "metadata": {},
   "outputs": [
    {
     "name": "stdout",
     "output_type": "stream",
     "text": [
      "      grade sub_grade  short_emp  emp_length_num home_ownership    dti  \\\n",
      "63114     B        B1          0              11           RENT  20.84   \n",
      "87510     C        C1          0               9           RENT  14.74   \n",
      "45305     B        B5          0               8       MORTGAGE  19.26   \n",
      "12467     C        C4          1               0       MORTGAGE  18.11   \n",
      "51207     D        D3          0              11           RENT  16.70   \n",
      "\n",
      "                  purpose        term  last_delinq_none  \\\n",
      "63114  debt_consolidation   36 months                 1   \n",
      "87510  debt_consolidation   36 months                 0   \n",
      "45305         credit_card   36 months                 1   \n",
      "12467  debt_consolidation   36 months                 0   \n",
      "51207             medical   36 months                 1   \n",
      "\n",
      "       last_major_derog_none  revol_util  total_rec_late_fee  \n",
      "63114                      1        82.1                 0.0  \n",
      "87510                      1        55.7                 0.0  \n",
      "45305                      1        59.9                 0.0  \n",
      "12467                      1        59.0                 0.0  \n",
      "51207                      1        42.5                 0.0  \n",
      "       prestamos_seguros\n",
      "63114                  1\n",
      "87510                  1\n",
      "45305                  1\n",
      "12467                  1\n",
      "51207                  1\n"
     ]
    }
   ],
   "source": [
    "caracteristica = ['grade',               # grade of the loan\n",
    "            'sub_grade',                 # sub-grade of the loan\n",
    "            'short_emp',                 # one year or less of employment\n",
    "            'emp_length_num',            # number of years of employment\n",
    "            'home_ownership',            # home_ownership status: own, mortgage or rent\n",
    "            'dti',                       # debt to income ratio\n",
    "            'purpose',                   # the purpose of the loan\n",
    "            'term',                      # the term of the loan\n",
    "            'last_delinq_none',          # has borrower had a delinquincy\n",
    "            'last_major_derog_none',     # has borrower had 90 day or worse rating\n",
    "            'revol_util',                # percent of available credit being used\n",
    "            'total_rec_late_fee',        # total late fees received to day\n",
    "           ]\n",
    "subconjunto_prestamos=prestamos_balanceados[caracteristica]\n",
    "print(subconjunto_prestamos.head())\n",
    "\n",
    "\n",
    "y = prestamos_balanceados[['prestamos_seguros']]\n",
    "print(y.head())"
   ]
  },
  {
   "cell_type": "markdown",
   "metadata": {},
   "source": [
    "6 .  Usando [pandas.get_dummies](https://pandas.pydata.org/pandas-docs/stable/generated/pandas.get_dummies.html) convierte las variables categóricas de `subconjunto_prestamos` en variables numéricas *one-hot*. Guarda el nuevo conjunto de datos en `X`."
   ]
  },
  {
   "cell_type": "code",
   "execution_count": 7,
   "metadata": {},
   "outputs": [
    {
     "name": "stdout",
     "output_type": "stream",
     "text": [
      "['grade', 'sub_grade', 'short_emp', 'emp_length_num', 'home_ownership', 'dti', 'purpose', 'term', 'last_delinq_none', 'last_major_derog_none', 'revol_util', 'total_rec_late_fee']\n",
      "\n",
      "\n",
      "\n",
      "['short_emp', 'emp_length_num', 'dti', 'last_delinq_none', 'last_major_derog_none', 'revol_util', 'total_rec_late_fee', 'grade_A', 'grade_B', 'grade_C', 'grade_D', 'grade_E', 'grade_F', 'grade_G', 'sub_grade_A1', 'sub_grade_A2', 'sub_grade_A3', 'sub_grade_A4', 'sub_grade_A5', 'sub_grade_B1', 'sub_grade_B2', 'sub_grade_B3', 'sub_grade_B4', 'sub_grade_B5', 'sub_grade_C1', 'sub_grade_C2', 'sub_grade_C3', 'sub_grade_C4', 'sub_grade_C5', 'sub_grade_D1', 'sub_grade_D2', 'sub_grade_D3', 'sub_grade_D4', 'sub_grade_D5', 'sub_grade_E1', 'sub_grade_E2', 'sub_grade_E3', 'sub_grade_E4', 'sub_grade_E5', 'sub_grade_F1', 'sub_grade_F2', 'sub_grade_F3', 'sub_grade_F4', 'sub_grade_F5', 'sub_grade_G1', 'sub_grade_G2', 'sub_grade_G3', 'sub_grade_G4', 'sub_grade_G5', 'home_ownership_MORTGAGE', 'home_ownership_OTHER', 'home_ownership_OWN', 'home_ownership_RENT', 'purpose_car', 'purpose_credit_card', 'purpose_debt_consolidation', 'purpose_home_improvement', 'purpose_house', 'purpose_major_purchase', 'purpose_medical', 'purpose_moving', 'purpose_other', 'purpose_small_business', 'purpose_vacation', 'purpose_wedding', 'term_ 36 months', 'term_ 60 months']\n"
     ]
    }
   ],
   "source": [
    "# Tu solucion\n",
    "\n",
    "print(list(subconjunto_prestamos))\n",
    "X=pd.get_dummies(subconjunto_prestamos)\n",
    "print(\"\\n\\n\")\n",
    "print(list(X))"
   ]
  },
  {
   "cell_type": "markdown",
   "metadata": {},
   "source": [
    "7 .  Empleando `sklearn.model_selection.train_test_split` separa el conjunto de datos en un 90% para entrenamiento y validación (`X_entrenamiento_val`, `y_entrenamiento_val`), y 10% para pruebas (`X_prueba`, `y_prueba`).\n",
    "\n",
    "Luego separa (`X_entrenamiento_val`, `y_entrenamiento_val`) en un 80% para entrenamiento (`X_entrenamiento`, `y_entrenamiento`) y 20% para validación (`X_val`, `y_val`)."
   ]
  },
  {
   "cell_type": "code",
   "execution_count": 8,
   "metadata": {},
   "outputs": [
    {
     "name": "stdout",
     "output_type": "stream",
     "text": [
      "41670 4630\n",
      "37040 9260\n"
     ]
    }
   ],
   "source": [
    "# Tu solucion\n",
    "from sklearn.model_selection import train_test_split\n",
    "\n",
    "\n",
    "X_entrenamiento_val, X_prueba, y_entrenamiento_val, y_prueba = train_test_split(X, y, test_size=0.10, random_state=0)\n",
    "print(len(X_entrenamiento_val),len(X_prueba))\n",
    "\n",
    "X_entrenamiento_val, X_prueba, y_entrenamiento_val, y_prueba = train_test_split(X, y, test_size=0.20, random_state=0)\n",
    "print(len(X_entrenamiento_val),len(X_prueba))"
   ]
  },
  {
   "cell_type": "markdown",
   "metadata": {},
   "source": [
    "8 . Entrena un modelo como Regresión Logística, Naive Bayes, KNN y un cuarto modelo de tu elección, con las siguientes indicaciones:\n",
    "\n",
    "* Utilizar el uso apropiado de la normalización (Scaling) de datos si fuese necesario.\n",
    "* El uso apropiado de una técnica para la selección de los mejores parámetros de cada modelo (p.ej. búsqueda grid o búsqueda aleatoria)\n",
    "* Reporte para cada modelo la exactitud , precisión y exhaustividad, F1-Score  **en el conjunto de pruebas.** y muestra la matriz de confusión.\n",
    "* Comenta tus resultados."
   ]
  },
  {
   "cell_type": "code",
   "execution_count": 9,
   "metadata": {},
   "outputs": [],
   "source": [
    "# Tus soluciones\n",
    "\n",
    "#Scaling\n",
    "\n",
    "from sklearn.preprocessing import StandardScaler\n",
    "\n",
    "sc=StandardScaler()\n",
    "\n",
    "X_entrenamiento_val=sc.fit_transform(X_entrenamiento_val)\n",
    "X_prueba = sc.transform(X_prueba)\n",
    "\n",
    "\n"
   ]
  },
  {
   "cell_type": "code",
   "execution_count": 10,
   "metadata": {},
   "outputs": [
    {
     "name": "stdout",
     "output_type": "stream",
     "text": [
      "              +-----------------+\n",
      "              |   Predicción    |\n",
      "              +-----------------+\n",
      "              |    +   |    -   |\n",
      "+-------+-----+--------+--------+\n",
      "| Valor |  +  |   2935 |  1663  |\n",
      "| real  +-----+--------+--------+\n",
      "|       |  -  | 1647   | 3015   |\n",
      "+-------+-----+--------+--------+\n",
      "\n",
      "Exactitud     : 0.642548596112311\n",
      "Precisión     : 0.6405499781754692\n",
      "Exhaustividad : 0.6383210091344063\n",
      "F1-Score      : 0.639433551198257\n"
     ]
    }
   ],
   "source": [
    "#Regresión Logísta\n",
    "\n",
    "from sklearn.linear_model import LogisticRegression\n",
    "\n",
    "#y_entremiento_lr=y_entrenamiento_val.as_matrix\n",
    "#print(list(X_entrenamiento_val))\n",
    "#print(X_entrenamiento_val)\n",
    "LR= LogisticRegression().fit(X_entrenamiento_val,(y_entrenamiento_val.values).ravel())\n",
    "#print(\"ok\")\n",
    "from sklearn import metrics\n",
    "predicciones_test_LR = LR.predict(X_prueba)\n",
    "matriz_confusion_LR = metrics.confusion_matrix(y_prueba, predicciones_test_LR)\n",
    "TN_LR = matriz_confusion_LR[0,0]\n",
    "FN_LR = matriz_confusion_LR[1,0]\n",
    "FP_LR = matriz_confusion_LR[0,1]\n",
    "TP_LR = matriz_confusion_LR[1,1]\n",
    "\n",
    "print ('              +-----------------+')\n",
    "print ('              |   Predicción    |')\n",
    "print ('              +-----------------+')\n",
    "print ('              |    +   |    -   |')\n",
    "print ('+-------+-----+--------+--------+')\n",
    "print ('| Valor |  +  |   %d |  %d  |'   % (TP_LR, FN_LR) )\n",
    "print ('| real  +-----+--------+--------+')\n",
    "print ('|       |  -  | %d   | %d   |'    % (FP_LR, TN_LR) )\n",
    "print ('+-------+-----+--------+--------+')\n",
    "print ()\n",
    "#print ( 'Exactitud    : ', (TP_LR+TN_LR)/(TP_LR+FN_LR+FP_LR+TN_LR) )\n",
    "print('Exactitud     :',metrics.accuracy_score(y_prueba, predicciones_test_LR) )\n",
    "print('Precisión     :',metrics.precision_score(y_prueba, predicciones_test_LR)) \n",
    "print('Exhaustividad :',metrics.recall_score(y_prueba, predicciones_test_LR))\n",
    "print('F1-Score      :',metrics.f1_score(y_prueba, predicciones_test_LR))"
   ]
  },
  {
   "cell_type": "code",
   "execution_count": 11,
   "metadata": {},
   "outputs": [
    {
     "name": "stdout",
     "output_type": "stream",
     "text": [
      "              +-----------------+\n",
      "              |   Predicción    |\n",
      "              +-----------------+\n",
      "              |    +   |    -   |\n",
      "+-------+-----+--------+--------+\n",
      "| Valor |  +  |   3724 |  874  |\n",
      "| real  +-----+--------+--------+\n",
      "|       |  -  | 2805   | 1857   |\n",
      "+-------+-----+--------+--------+\n",
      "\n",
      "Exactitud     : 0.6026997840172786\n",
      "Precisión     : 0.570378312145811\n",
      "Exhaustividad : 0.8099173553719008\n",
      "F1-Score      : 0.6693628111800126\n"
     ]
    }
   ],
   "source": [
    "from sklearn.naive_bayes import GaussianNB\n",
    "\n",
    "GNB = GaussianNB().fit(X_entrenamiento_val,(y_entrenamiento_val.values).ravel())\n",
    "\n",
    "predicciones_test_GNB=GNB.predict(X_prueba)\n",
    "\n",
    "matriz_confusion_GNB = metrics.confusion_matrix(y_prueba, predicciones_test_GNB)\n",
    "TN_GNB = matriz_confusion_GNB[0,0]\n",
    "FN_GNB = matriz_confusion_GNB[1,0]\n",
    "FP_GNB = matriz_confusion_GNB[0,1]\n",
    "TP_GNB = matriz_confusion_GNB[1,1]\n",
    "\n",
    "print ('              +-----------------+')\n",
    "print ('              |   Predicción    |')\n",
    "print ('              +-----------------+')\n",
    "print ('              |    +   |    -   |')\n",
    "print ('+-------+-----+--------+--------+')\n",
    "print ('| Valor |  +  |   %d |  %d  |'   % (TP_GNB, FN_GNB) )\n",
    "print ('| real  +-----+--------+--------+')\n",
    "print ('|       |  -  | %d   | %d   |'    % (FP_GNB, TN_GNB) )\n",
    "print ('+-------+-----+--------+--------+')\n",
    "print ()\n",
    "#print ('Exactitud    : ', (TP_GNB+TN_GNB)/(TP_GNB+FN_GNB+FP_GNB+TN_GNB) )\n",
    "print('Exactitud     :',metrics.accuracy_score(y_prueba, predicciones_test_GNB) )\n",
    "print('Precisión     :',metrics.precision_score(y_prueba, predicciones_test_GNB)) \n",
    "print('Exhaustividad :',metrics.recall_score(y_prueba, predicciones_test_GNB))\n",
    "print('F1-Score      :',metrics.f1_score(y_prueba, predicciones_test_GNB))\n"
   ]
  },
  {
   "cell_type": "code",
   "execution_count": 12,
   "metadata": {},
   "outputs": [
    {
     "name": "stdout",
     "output_type": "stream",
     "text": [
      "              +-----------------+\n",
      "              |   Predicción    |\n",
      "              +-----------------+\n",
      "              |    +   |    -   |\n",
      "+-------+-----+--------+--------+\n",
      "| Valor |  +  |   2721 |  1877  |\n",
      "| real  +-----+--------+--------+\n",
      "|       |  -  | 1925   | 2737   |\n",
      "+-------+-----+--------+--------+\n",
      "\n",
      "Exactitud     : 0.5894168466522678\n",
      "Precisión     : 0.5856650882479553\n",
      "Exhaustividad : 0.5917790343627665\n",
      "F1-Score      : 0.5887061877974904\n"
     ]
    }
   ],
   "source": [
    "from sklearn.neighbors import KNeighborsClassifier\n",
    "\n",
    "\n",
    "KNN= KNeighborsClassifier().fit(X_entrenamiento_val,(y_entrenamiento_val.values).ravel())\n",
    "\n",
    "predicciones_test_KNN=KNN.predict(X_prueba)\n",
    "\n",
    "matriz_confusion_KNN = metrics.confusion_matrix(y_prueba, predicciones_test_KNN)\n",
    "TN_KNN = matriz_confusion_KNN[0,0]\n",
    "FN_KNN = matriz_confusion_KNN[1,0]\n",
    "FP_KNN = matriz_confusion_KNN[0,1]\n",
    "TP_KNN = matriz_confusion_KNN[1,1]\n",
    "\n",
    "print ('              +-----------------+')\n",
    "print ('              |   Predicción    |')\n",
    "print ('              +-----------------+')\n",
    "print ('              |    +   |    -   |')\n",
    "print ('+-------+-----+--------+--------+')\n",
    "print ('| Valor |  +  |   %d |  %d  |'   % (TP_KNN, FN_KNN) )\n",
    "print ('| real  +-----+--------+--------+')\n",
    "print ('|       |  -  | %d   | %d   |'    % (FP_KNN, TN_KNN) )\n",
    "print ('+-------+-----+--------+--------+')\n",
    "print ()\n",
    "#print ('Exactitud    : ', (TP_GNB+TN_GNB)/(TP_GNB+FN_GNB+FP_GNB+TN_GNB) )\n",
    "print('Exactitud     :',metrics.accuracy_score(y_prueba, predicciones_test_KNN) )\n",
    "print('Precisión     :',metrics.precision_score(y_prueba, predicciones_test_KNN)) \n",
    "print('Exhaustividad :',metrics.recall_score(y_prueba, predicciones_test_KNN))\n",
    "print('F1-Score      :',metrics.f1_score(y_prueba, predicciones_test_KNN))\n"
   ]
  },
  {
   "cell_type": "code",
   "execution_count": 14,
   "metadata": {},
   "outputs": [],
   "source": [
    "from sklearn.svm import SVC\n",
    "\n",
    "Clasificador_SVC=SVC(kernel='linear', random_state=0).fit(X_entrenamiento_val,(y_entrenamiento_val.values).ravel())"
   ]
  },
  {
   "cell_type": "code",
   "execution_count": 15,
   "metadata": {},
   "outputs": [
    {
     "name": "stdout",
     "output_type": "stream",
     "text": [
      "              +-----------------+\n",
      "              |   Predicción    |\n",
      "              +-----------------+\n",
      "              |    +   |    -   |\n",
      "+-------+-----+--------+--------+\n",
      "| Valor |  +  |   2906 |  1692  |\n",
      "| real  +-----+--------+--------+\n",
      "|       |  -  | 1785   | 2877   |\n",
      "+-------+-----+--------+--------+\n",
      "\n",
      "Exactitud     : 0.6245140388768898\n",
      "Precisión     : 0.6194841185248348\n",
      "Exhaustividad : 0.6320139190952588\n",
      "F1-Score      : 0.6256862956184736\n"
     ]
    }
   ],
   "source": [
    "predicciones_test_SVC=Clasificador_SVC.predict(X_prueba)\n",
    "\n",
    "matriz_confusion_SVC = metrics.confusion_matrix(y_prueba, predicciones_test_SVC)\n",
    "TN_SVC = matriz_confusion_SVC[0,0]\n",
    "FN_SVC = matriz_confusion_SVC[1,0]\n",
    "FP_SVC = matriz_confusion_SVC[0,1]\n",
    "TP_SVC = matriz_confusion_SVC[1,1]\n",
    "\n",
    "print ('              +-----------------+')\n",
    "print ('              |   Predicción    |')\n",
    "print ('              +-----------------+')\n",
    "print ('              |    +   |    -   |')\n",
    "print ('+-------+-----+--------+--------+')\n",
    "print ('| Valor |  +  |   %d |  %d  |'   % (TP_SVC, FN_SVC) )\n",
    "print ('| real  +-----+--------+--------+')\n",
    "print ('|       |  -  | %d   | %d   |'    % (FP_SVC, TN_SVC) )\n",
    "print ('+-------+-----+--------+--------+')\n",
    "print ()\n",
    "#print ('Exactitud    : ', (TP_GNB+TN_GNB)/(TP_GNB+FN_GNB+FP_GNB+TN_GNB) )\n",
    "print('Exactitud     :',metrics.accuracy_score(y_prueba, predicciones_test_SVC) )\n",
    "print('Precisión     :',metrics.precision_score(y_prueba, predicciones_test_SVC)) \n",
    "print('Exhaustividad :',metrics.recall_score(y_prueba, predicciones_test_SVC))\n",
    "print('F1-Score      :',metrics.f1_score(y_prueba, predicciones_test_SVC))"
   ]
  },
  {
   "cell_type": "code",
   "execution_count": null,
   "metadata": {},
   "outputs": [],
   "source": []
  }
 ],
 "metadata": {
  "kernelspec": {
   "display_name": "Python 3",
   "language": "python",
   "name": "python3"
  },
  "language_info": {
   "codemirror_mode": {
    "name": "ipython",
    "version": 3
   },
   "file_extension": ".py",
   "mimetype": "text/x-python",
   "name": "python",
   "nbconvert_exporter": "python",
   "pygments_lexer": "ipython3",
   "version": "3.6.6"
  }
 },
 "nbformat": 4,
 "nbformat_minor": 2
}
